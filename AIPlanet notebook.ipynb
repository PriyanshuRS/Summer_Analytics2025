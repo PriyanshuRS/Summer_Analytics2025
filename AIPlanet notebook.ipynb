{
 "cells": [
  {
   "cell_type": "code",
   "execution_count": 1,
   "id": "2fbdd837-9c27-4615-83e0-9c3a27cf0ec9",
   "metadata": {},
   "outputs": [],
   "source": [
    "import pandas as pd\n",
    "import numpy as np\n",
    "from sklearn.linear_model import LogisticRegression\n",
    "from sklearn.model_selection import train_test_split\n",
    "from sklearn.preprocessing import StandardScaler\n",
    "from sklearn.impute import SimpleImputer\n",
    "from sklearn.metrics import classification_report, f1_score\n",
    "\n",
    "df=pd.read_csv(\"Train_Data.csv\")"
   ]
  },
  {
   "cell_type": "code",
   "execution_count": 2,
   "id": "5ca304a7-3f4e-452a-acf8-aa02a6cb7355",
   "metadata": {},
   "outputs": [
    {
     "data": {
      "text/html": [
       "<div>\n",
       "<style scoped>\n",
       "    .dataframe tbody tr th:only-of-type {\n",
       "        vertical-align: middle;\n",
       "    }\n",
       "\n",
       "    .dataframe tbody tr th {\n",
       "        vertical-align: top;\n",
       "    }\n",
       "\n",
       "    .dataframe thead th {\n",
       "        text-align: right;\n",
       "    }\n",
       "</style>\n",
       "<table border=\"1\" class=\"dataframe\">\n",
       "  <thead>\n",
       "    <tr style=\"text-align: right;\">\n",
       "      <th></th>\n",
       "      <th>SEQN</th>\n",
       "      <th>RIAGENDR</th>\n",
       "      <th>PAQ605</th>\n",
       "      <th>BMXBMI</th>\n",
       "      <th>LBXGLU</th>\n",
       "      <th>DIQ010</th>\n",
       "      <th>LBXGLT</th>\n",
       "      <th>LBXIN</th>\n",
       "      <th>age_group</th>\n",
       "    </tr>\n",
       "  </thead>\n",
       "  <tbody>\n",
       "    <tr>\n",
       "      <th>0</th>\n",
       "      <td>73564.0</td>\n",
       "      <td>2.0</td>\n",
       "      <td>2.0</td>\n",
       "      <td>35.7</td>\n",
       "      <td>110.0</td>\n",
       "      <td>2.0</td>\n",
       "      <td>150.0</td>\n",
       "      <td>14.91</td>\n",
       "      <td>Adult</td>\n",
       "    </tr>\n",
       "    <tr>\n",
       "      <th>1</th>\n",
       "      <td>73568.0</td>\n",
       "      <td>2.0</td>\n",
       "      <td>2.0</td>\n",
       "      <td>20.3</td>\n",
       "      <td>89.0</td>\n",
       "      <td>2.0</td>\n",
       "      <td>80.0</td>\n",
       "      <td>3.85</td>\n",
       "      <td>Adult</td>\n",
       "    </tr>\n",
       "    <tr>\n",
       "      <th>2</th>\n",
       "      <td>73576.0</td>\n",
       "      <td>1.0</td>\n",
       "      <td>2.0</td>\n",
       "      <td>23.2</td>\n",
       "      <td>89.0</td>\n",
       "      <td>2.0</td>\n",
       "      <td>68.0</td>\n",
       "      <td>6.14</td>\n",
       "      <td>Adult</td>\n",
       "    </tr>\n",
       "    <tr>\n",
       "      <th>3</th>\n",
       "      <td>73577.0</td>\n",
       "      <td>1.0</td>\n",
       "      <td>2.0</td>\n",
       "      <td>28.9</td>\n",
       "      <td>104.0</td>\n",
       "      <td>NaN</td>\n",
       "      <td>84.0</td>\n",
       "      <td>16.15</td>\n",
       "      <td>Adult</td>\n",
       "    </tr>\n",
       "    <tr>\n",
       "      <th>4</th>\n",
       "      <td>73580.0</td>\n",
       "      <td>2.0</td>\n",
       "      <td>1.0</td>\n",
       "      <td>35.9</td>\n",
       "      <td>103.0</td>\n",
       "      <td>2.0</td>\n",
       "      <td>81.0</td>\n",
       "      <td>10.92</td>\n",
       "      <td>Adult</td>\n",
       "    </tr>\n",
       "  </tbody>\n",
       "</table>\n",
       "</div>"
      ],
      "text/plain": [
       "      SEQN  RIAGENDR  PAQ605  BMXBMI  LBXGLU  DIQ010  LBXGLT  LBXIN age_group\n",
       "0  73564.0       2.0     2.0    35.7   110.0     2.0   150.0  14.91     Adult\n",
       "1  73568.0       2.0     2.0    20.3    89.0     2.0    80.0   3.85     Adult\n",
       "2  73576.0       1.0     2.0    23.2    89.0     2.0    68.0   6.14     Adult\n",
       "3  73577.0       1.0     2.0    28.9   104.0     NaN    84.0  16.15     Adult\n",
       "4  73580.0       2.0     1.0    35.9   103.0     2.0    81.0  10.92     Adult"
      ]
     },
     "execution_count": 2,
     "metadata": {},
     "output_type": "execute_result"
    }
   ],
   "source": [
    "df.head()"
   ]
  },
  {
   "cell_type": "code",
   "execution_count": 3,
   "id": "6be06ff3-01f7-4f3e-b83b-eb6da43e06b3",
   "metadata": {},
   "outputs": [],
   "source": [
    "df=df[df['age_group'].notna()].copy()"
   ]
  },
  {
   "cell_type": "code",
   "execution_count": 4,
   "id": "8c55abdc-98e6-4ab2-8ead-5cc564a7a7cd",
   "metadata": {},
   "outputs": [],
   "source": [
    "df['age_group']= df['age_group'].map({'Adult': 0,'Senior': 1})\n",
    "df['PAQ605'] =df['PAQ605'].map({1: 1,2: 0})\n",
    "df['DIQ010'] =df['DIQ010'].map({1: 1, 2: 0})"
   ]
  },
  {
   "cell_type": "code",
   "execution_count": 5,
   "id": "f1bb2456-04e5-4f73-909c-b5ec542931a2",
   "metadata": {},
   "outputs": [],
   "source": [
    "df =df.drop(columns=['SEQN'])"
   ]
  },
  {
   "cell_type": "code",
   "execution_count": 6,
   "id": "09ce2db4-34a1-403b-935a-f6d7e671d98f",
   "metadata": {},
   "outputs": [],
   "source": [
    "base_features =['RIAGENDR','PAQ605','BMXBMI','LBXGLU','DIQ010','LBXGLT','LBXIN']\n",
    "X =df[base_features].copy()\n",
    "y =df['age_group']"
   ]
  },
  {
   "cell_type": "code",
   "execution_count": 7,
   "id": "d48b8949-a349-4533-a211-1d587ff59a59",
   "metadata": {},
   "outputs": [],
   "source": [
    "X =pd.DataFrame(SimpleImputer(strategy='median').fit_transform(X),columns=base_features)"
   ]
  },
  {
   "cell_type": "code",
   "execution_count": 8,
   "id": "c99b2c4c-7caf-42ac-bc68-f6715e8675dd",
   "metadata": {},
   "outputs": [],
   "source": [
    "X['BMI_GT_30'] =(X['BMXBMI']>30).astype(int)\n",
    "X['GLU_BY_INS'] =X['LBXGLU']/(X['LBXIN']+1e-5)\n",
    "X['GLU_BY_TOL'] =X['LBXGLU']/(X['LBXGLT']+1e-5)\n",
    "X['INS_BY_BMI'] =X['LBXIN']/(X['BMXBMI']+1e-5)"
   ]
  },
  {
   "cell_type": "code",
   "execution_count": 9,
   "id": "087becdc-6926-4939-b404-c646773f2a86",
   "metadata": {},
   "outputs": [],
   "source": [
    "features =X.columns.tolist()\n",
    "scaler= StandardScaler()\n",
    "X_scaled =scaler.fit_transform(X)"
   ]
  },
  {
   "cell_type": "code",
   "execution_count": 10,
   "id": "7f40cff3-555f-4ed6-add6-8d768dd9349f",
   "metadata": {},
   "outputs": [],
   "source": [
    "X_train,X_test,y_train,y_test =train_test_split(X_scaled, y,stratify=y,test_size=0.2,random_state=42)"
   ]
  },
  {
   "cell_type": "code",
   "execution_count": 11,
   "id": "e6461d6e-2b5a-45bb-b5da-b6e46f9283a4",
   "metadata": {},
   "outputs": [
    {
     "name": "stdout",
     "output_type": "stream",
     "text": [
      "Best F1: 0.6150398913597013 at threshold 0.6000000000000001\n",
      "              precision    recall  f1-score   support\n",
      "\n",
      "       Adult       0.88      0.85      0.87       328\n",
      "      Senior       0.34      0.40      0.36        63\n",
      "\n",
      "    accuracy                           0.78       391\n",
      "   macro avg       0.61      0.62      0.62       391\n",
      "weighted avg       0.79      0.78      0.78       391\n",
      "\n"
     ]
    }
   ],
   "source": [
    "model =LogisticRegression(class_weight='balanced', max_iter=1000, random_state=42)\n",
    "model.fit(X_train, y_train)\n",
    "\n",
    "y_proba=model.predict_proba(X_test)[:, 1]\n",
    "bestf1=0\n",
    "bestthresh=0.5\n",
    "for t in np.linspace(0.3,0.9,61):\n",
    "    preds =(y_proba >= t).astype(int)\n",
    "    f1 =f1_score(y_test, preds, average='macro')\n",
    "    if f1>bestf1:\n",
    "        bestf1=f1\n",
    "        bestthresh=t\n",
    "\n",
    "print(f\"Best F1: {bestf1:} at threshold {bestthresh:}\")\n",
    "print(classification_report(y_test,(y_proba >= bestthresh).astype(int),target_names=[\"Adult\",\"Senior\"]))"
   ]
  },
  {
   "cell_type": "code",
   "execution_count": 12,
   "id": "0c405414-7e59-4a4d-8e9d-453fef2cbe54",
   "metadata": {},
   "outputs": [],
   "source": [
    "test_df=pd.read_csv(\"Test_Data.csv\")\n",
    "test_df=test_df.copy()\n",
    "test_df['PAQ605'] =test_df['PAQ605'].map({1: 1,2: 0})\n",
    "test_df['DIQ010'] =test_df['DIQ010'].map({1: 1,2: 0})\n",
    "\n",
    "test_df =test_df.drop(columns=['SEQN'])\n",
    "\n",
    "X_test_final =test_df[base_features].copy()\n",
    "\n",
    "X_test_final=pd.DataFrame(SimpleImputer(strategy='median').fit(X[base_features]).transform(X_test_final),columns=base_features)\n",
    "\n",
    "X_test_final['BMI_GT_30'] =(X_test_final['BMXBMI']>30).astype(int)\n",
    "X_test_final['GLU_BY_INS'] =X_test_final['LBXGLU']/(X_test_final['LBXIN']+1e-5)\n",
    "X_test_final['GLU_BY_TOL']=X_test_final['LBXGLU']/(X_test_final['LBXGLT']+1e-5)\n",
    "X_test_final['INS_BY_BMI'] =X_test_final['LBXIN']/(X_test_final['BMXBMI']+1e-5)\n",
    "\n",
    "X_test_scaled = scaler.transform(X_test_final)\n",
    "\n",
    "y_test_proba = model.predict_proba(X_test_scaled)[:, 1]\n",
    "y_test_final = (y_test_proba>=0.60).astype(int)\n",
    "\n",
    "submission = pd.DataFrame({'age_group':y_test_final})\n",
    "    \n",
    "submission.to_csv(\"final_submission.csv\",index=False)"
   ]
  },
  {
   "cell_type": "code",
   "execution_count": null,
   "id": "f18622d5-6337-415d-9ee8-eed1c7dd704e",
   "metadata": {},
   "outputs": [],
   "source": []
  }
 ],
 "metadata": {
  "kernelspec": {
   "display_name": "Python 3 (ipykernel)",
   "language": "python",
   "name": "python3"
  },
  "language_info": {
   "codemirror_mode": {
    "name": "ipython",
    "version": 3
   },
   "file_extension": ".py",
   "mimetype": "text/x-python",
   "name": "python",
   "nbconvert_exporter": "python",
   "pygments_lexer": "ipython3",
   "version": "3.12.7"
  }
 },
 "nbformat": 4,
 "nbformat_minor": 5
}
